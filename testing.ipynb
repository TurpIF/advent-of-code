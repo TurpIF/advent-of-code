{
 "cells": [
  {
   "cell_type": "code",
   "execution_count": 96,
   "outputs": [],
   "source": [
    "# Read input from sample\n",
    "\n",
    "input = '''\n",
    "seeds: 79 14 55 13\n",
    "\n",
    "seed-to-soil map:\n",
    "50 98 2\n",
    "52 50 48\n",
    "\n",
    "soil-to-fertilizer map:\n",
    "0 15 37\n",
    "37 52 2\n",
    "39 0 15\n",
    "\n",
    "fertilizer-to-water map:\n",
    "49 53 8\n",
    "0 11 42\n",
    "42 0 7\n",
    "57 7 4\n",
    "\n",
    "water-to-light map:\n",
    "88 18 7\n",
    "18 25 70\n",
    "\n",
    "light-to-temperature map:\n",
    "45 77 23\n",
    "81 45 19\n",
    "68 64 13\n",
    "\n",
    "temperature-to-humidity map:\n",
    "0 69 1\n",
    "1 0 69\n",
    "\n",
    "humidity-to-location map:\n",
    "60 56 37\n",
    "56 93 4\n",
    "'''\n",
    "\n",
    "lines = list(input.splitlines()[1:])\n",
    "# print(lines)"
   ],
   "metadata": {
    "collapsed": false,
    "ExecuteTime": {
     "end_time": "2023-12-05T07:13:37.004939900Z",
     "start_time": "2023-12-05T07:13:36.993929700Z"
    }
   }
  },
  {
   "cell_type": "code",
   "execution_count": 108,
   "outputs": [],
   "source": [
    "def process_all(lines):\n",
    "  seeds = list(int(x) for x in lines[0].split(':')[1].split())\n",
    "\n",
    "  seed_to_soil = {}\n",
    "  soil_to_fertilizer = {}\n",
    "  fertilizer_to_water = {}\n",
    "  water_to_light = {}\n",
    "  light_to_temperature = {}\n",
    "  temperature_to_humidity = {}\n",
    "  humidity_to_location = {}\n",
    "  current_map = seed_to_soil\n",
    "\n",
    "  for line in lines[2:]:\n",
    "    if line.startswith('seed-to-soil'):\n",
    "      current_map = seed_to_soil\n",
    "      continue\n",
    "    if line.startswith('soil-to-fertilizer'):\n",
    "      current_map = soil_to_fertilizer\n",
    "      continue\n",
    "    if line.startswith('fertilizer-to-water'):\n",
    "      current_map = fertilizer_to_water\n",
    "      continue\n",
    "    if line.startswith('water-to-light'):\n",
    "        current_map = water_to_light\n",
    "        continue\n",
    "    if line.startswith('light-to-temperature'):\n",
    "        current_map = light_to_temperature\n",
    "        continue\n",
    "    if line.startswith('temperature-to-humidity'):\n",
    "        current_map = temperature_to_humidity\n",
    "        continue\n",
    "    if line.startswith('humidity-to-location'):\n",
    "        current_map = humidity_to_location\n",
    "        continue\n",
    "\n",
    "    conversion = [int(x) for x in line.split()]\n",
    "    if conversion:\n",
    "      [src_start, dest_start, length] = conversion\n",
    "      for i in range(length):\n",
    "        current_map[dest_start + i] = src_start + i\n",
    "\n",
    "  def get_mapping(mapping, src):\n",
    "    if src in mapping:\n",
    "      return mapping[src]\n",
    "    return src\n",
    "\n",
    "  locations = []\n",
    "  for seed in seeds:\n",
    "    soil = get_mapping(seed_to_soil, seed)\n",
    "    fertilizer = get_mapping(soil_to_fertilizer, soil)\n",
    "    water = get_mapping(fertilizer_to_water, fertilizer)\n",
    "    light = get_mapping(water_to_light, water)\n",
    "    temperature = get_mapping(light_to_temperature, light)\n",
    "    humidity = get_mapping(temperature_to_humidity, temperature)\n",
    "    location = get_mapping(humidity_to_location, humidity)\n",
    "\n",
    "    print(seed, soil, fertilizer, water, light, temperature, humidity, location)\n",
    "    locations.append(location)\n",
    "\n",
    "  print(locations)\n",
    "  return min(locations)"
   ],
   "metadata": {
    "collapsed": false,
    "ExecuteTime": {
     "end_time": "2023-12-05T07:16:52.130096Z",
     "start_time": "2023-12-05T07:16:52.086809200Z"
    }
   }
  },
  {
   "cell_type": "code",
   "execution_count": 109,
   "outputs": [
    {
     "name": "stdout",
     "output_type": "stream",
     "text": [
      "79 81 81 81 74 78 78 82\n",
      "14 14 53 49 42 42 43 43\n",
      "55 57 57 53 46 82 82 86\n",
      "13 13 52 41 34 34 35 35\n",
      "[82, 43, 86, 35]\n",
      "35\n"
     ]
    }
   ],
   "source": [
    "result = process_all(lines)\n",
    "print(result)"
   ],
   "metadata": {
    "collapsed": false,
    "ExecuteTime": {
     "end_time": "2023-12-05T07:16:52.554213700Z",
     "start_time": "2023-12-05T07:16:52.528208900Z"
    }
   }
  },
  {
   "cell_type": "code",
   "execution_count": null,
   "outputs": [],
   "source": [],
   "metadata": {
    "collapsed": false
   }
  }
 ],
 "metadata": {
  "kernelspec": {
   "display_name": "Python 3",
   "language": "python",
   "name": "python3"
  },
  "language_info": {
   "codemirror_mode": {
    "name": "ipython",
    "version": 2
   },
   "file_extension": ".py",
   "mimetype": "text/x-python",
   "name": "python",
   "nbconvert_exporter": "python",
   "pygments_lexer": "ipython2",
   "version": "2.7.6"
  }
 },
 "nbformat": 4,
 "nbformat_minor": 0
}
