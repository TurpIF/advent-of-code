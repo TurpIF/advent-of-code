{
 "cells": [
  {
   "cell_type": "code",
   "execution_count": 39,
   "outputs": [],
   "source": [
    "# Read input from sample\n",
    "\n",
    "input = '''\n",
    "467..114..\n",
    "...*......\n",
    "..35..633.\n",
    "......#...\n",
    "617*......\n",
    ".....+.58.\n",
    "..592.....\n",
    "......755.\n",
    "...$.*....\n",
    ".664.598..\n",
    "'''\n",
    "\n",
    "lines = list(input.splitlines()[1:])\n",
    "# print(lines)"
   ],
   "metadata": {
    "collapsed": false,
    "ExecuteTime": {
     "end_time": "2023-12-03T08:16:48.307392800Z",
     "start_time": "2023-12-03T08:16:48.295278100Z"
    }
   }
  },
  {
   "cell_type": "code",
   "execution_count": 76,
   "outputs": [],
   "source": [
    "def process(lines):\n",
    "  def search_number(x, y):\n",
    "    if x < 0 or y < 0 or y > len(lines) - 1 or x > len(lines[0]) - 1:\n",
    "      return None\n",
    "\n",
    "    if not lines[y][x].isdigit():\n",
    "      return None\n",
    "\n",
    "    line = lines[y]\n",
    "    x_min = x\n",
    "    while x_min - 1 >= 0 and line[x_min - 1].isdigit():\n",
    "      x_min -= 1\n",
    "\n",
    "    x_max = x\n",
    "    while x_max + 1 <= len(line) - 1 and line[x_max + 1].isdigit():\n",
    "        x_max += 1\n",
    "\n",
    "    print((x_min, y), (x, y), line[x_min:x_max + 1])\n",
    "\n",
    "    number = int(line[x_min:x_max + 1])\n",
    "    return (x_min, y), number\n",
    "\n",
    "  gears = 0\n",
    "\n",
    "  for y, line in enumerate(lines):\n",
    "    for x, c in enumerate(line):\n",
    "      if c == '*':\n",
    "        print (x, y, c)\n",
    "\n",
    "        gear_parts = {}\n",
    "\n",
    "        for candidate_x, candidate_y in [\n",
    "          (x - 1, y),\n",
    "          (x + 1, y),\n",
    "          (x, y - 1),\n",
    "          (x, y + 1),\n",
    "          (x - 1, y - 1),\n",
    "          (x + 1, y - 1),\n",
    "          (x - 1, y + 1),\n",
    "          (x + 1, y + 1)]:\n",
    "          candidate_number = search_number(candidate_x, candidate_y)\n",
    "          if candidate_number:\n",
    "            gear_parts[(candidate_number[0])] = candidate_number[1]\n",
    "\n",
    "        if len(gear_parts) == 2:\n",
    "          values = list(gear_parts.values())\n",
    "          gear_value = values[0] * values[1]\n",
    "          gears += gear_value\n",
    "          print(gear_parts, gear_value)\n",
    "\n",
    "  return gears"
   ],
   "metadata": {
    "collapsed": false,
    "ExecuteTime": {
     "end_time": "2023-12-03T08:52:37.809273Z",
     "start_time": "2023-12-03T08:52:37.786302400Z"
    }
   }
  },
  {
   "cell_type": "code",
   "execution_count": 77,
   "outputs": [
    {
     "name": "stdout",
     "output_type": "stream",
     "text": [
      "3 1 *\n",
      "(2, 2) (3, 2) 35\n",
      "(0, 0) (2, 0) 467\n",
      "(2, 2) (2, 2) 35\n",
      "{(2, 2): 35, (0, 0): 467} 16345\n",
      "3 4 *\n",
      "(0, 4) (2, 4) 617\n",
      "5 8 *\n",
      "(5, 9) (5, 9) 598\n",
      "(6, 7) (6, 7) 755\n",
      "(5, 9) (6, 9) 598\n",
      "{(5, 9): 598, (6, 7): 755} 451490\n",
      "467835\n"
     ]
    }
   ],
   "source": [
    "result = process(lines)\n",
    "print(result)"
   ],
   "metadata": {
    "collapsed": false,
    "ExecuteTime": {
     "end_time": "2023-12-03T08:52:38.210841300Z",
     "start_time": "2023-12-03T08:52:38.184861500Z"
    }
   }
  },
  {
   "cell_type": "code",
   "execution_count": null,
   "outputs": [],
   "source": [],
   "metadata": {
    "collapsed": false
   }
  }
 ],
 "metadata": {
  "kernelspec": {
   "display_name": "Python 3",
   "language": "python",
   "name": "python3"
  },
  "language_info": {
   "codemirror_mode": {
    "name": "ipython",
    "version": 2
   },
   "file_extension": ".py",
   "mimetype": "text/x-python",
   "name": "python",
   "nbconvert_exporter": "python",
   "pygments_lexer": "ipython2",
   "version": "2.7.6"
  }
 },
 "nbformat": 4,
 "nbformat_minor": 0
}
