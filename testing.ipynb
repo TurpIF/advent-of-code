{
 "cells": [
  {
   "cell_type": "code",
   "execution_count": 32,
   "outputs": [],
   "source": [
    "# Read input from sample\n",
    "\n",
    "input = '''\n",
    "Game 1: 3 blue, 4 red; 1 red, 2 green, 6 blue; 2 green\n",
    "Game 2: 1 blue, 2 green; 3 green, 4 blue, 1 red; 1 green, 1 blue\n",
    "Game 3: 8 green, 6 blue, 20 red; 5 blue, 4 red, 13 green; 5 green, 1 red\n",
    "Game 4: 1 green, 3 red, 6 blue; 3 green, 6 red; 3 green, 15 blue, 14 red\n",
    "Game 5: 6 red, 1 blue, 3 green; 2 blue, 1 red, 2 green\n",
    "'''\n",
    "\n",
    "lines = list(input.splitlines()[1:])\n",
    "# print(lines)"
   ],
   "metadata": {
    "collapsed": false,
    "ExecuteTime": {
     "end_time": "2023-12-02T09:41:04.659577500Z",
     "start_time": "2023-12-02T09:41:04.648602200Z"
    }
   }
  },
  {
   "cell_type": "code",
   "execution_count": 37,
   "outputs": [],
   "source": [
    "import re\n",
    "\n",
    "max_red = 12\n",
    "max_green = 13\n",
    "max_blue = 14\n",
    "\n",
    "BLUE = 'blue'\n",
    "RED = 'red'\n",
    "GREEN = 'green'\n",
    "\n",
    "def process(line):\n",
    "  [game, triage] = line.split(\":\")\n",
    "  game_id = int(game[len(\"Game \"):])\n",
    "\n",
    "  triage_tokens = [[tokens.split() for tokens in part.split(',')] for part in triage.split(';')]\n",
    "\n",
    "  max_quantity = {BLUE: 0, RED: 0, GREEN: 0}\n",
    "\n",
    "  for token_per_play in triage_tokens:\n",
    "\n",
    "    for token in token_per_play:\n",
    "      for color in [BLUE, RED, GREEN]:\n",
    "        if token[1] == color:\n",
    "          max_quantity[color] = max(int(token[0]), max_quantity[color])\n",
    "\n",
    "  power = max_quantity[BLUE] * max_quantity[RED] * max_quantity[GREEN]\n",
    "\n",
    "  print(game_id, power, max_quantity)\n",
    "  return power"
   ],
   "metadata": {
    "collapsed": false,
    "ExecuteTime": {
     "end_time": "2023-12-02T09:47:14.915286600Z",
     "start_time": "2023-12-02T09:47:14.913749300Z"
    }
   }
  },
  {
   "cell_type": "code",
   "execution_count": 38,
   "outputs": [
    {
     "name": "stdout",
     "output_type": "stream",
     "text": [
      "1 48 {'blue': 6, 'red': 4, 'green': 2}\n",
      "2 12 {'blue': 4, 'red': 1, 'green': 3}\n",
      "3 1560 {'blue': 6, 'red': 20, 'green': 13}\n",
      "4 630 {'blue': 15, 'red': 14, 'green': 3}\n",
      "5 36 {'blue': 2, 'red': 6, 'green': 3}\n",
      "2286\n"
     ]
    }
   ],
   "source": [
    "result = sum(process(line) for line in lines)\n",
    "print(result)"
   ],
   "metadata": {
    "collapsed": false,
    "ExecuteTime": {
     "end_time": "2023-12-02T09:47:15.454573300Z",
     "start_time": "2023-12-02T09:47:15.427039700Z"
    }
   }
  },
  {
   "cell_type": "code",
   "execution_count": null,
   "outputs": [],
   "source": [],
   "metadata": {
    "collapsed": false
   }
  }
 ],
 "metadata": {
  "kernelspec": {
   "display_name": "Python 3",
   "language": "python",
   "name": "python3"
  },
  "language_info": {
   "codemirror_mode": {
    "name": "ipython",
    "version": 2
   },
   "file_extension": ".py",
   "mimetype": "text/x-python",
   "name": "python",
   "nbconvert_exporter": "python",
   "pygments_lexer": "ipython2",
   "version": "2.7.6"
  }
 },
 "nbformat": 4,
 "nbformat_minor": 0
}
