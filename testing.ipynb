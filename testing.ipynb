{
 "cells": [
  {
   "cell_type": "code",
   "execution_count": 78,
   "outputs": [],
   "source": [
    "# Read input from sample\n",
    "\n",
    "input = '''\n",
    "Card 1: 41 48 83 86 17 | 83 86  6 31 17  9 48 53\n",
    "Card 2: 13 32 20 16 61 | 61 30 68 82 17 32 24 19\n",
    "Card 3:  1 21 53 59 44 | 69 82 63 72 16 21 14  1\n",
    "Card 4: 41 92 73 84 69 | 59 84 76 51 58  5 54 83\n",
    "Card 5: 87 83 26 28 32 | 88 30 70 12 93 22 82 36\n",
    "Card 6: 31 18 13 56 72 | 74 77 10 23 35 67 36 11\n",
    "'''\n",
    "\n",
    "lines = list(input.splitlines()[1:])\n",
    "# print(lines)"
   ],
   "metadata": {
    "collapsed": false,
    "ExecuteTime": {
     "end_time": "2023-12-04T06:44:46.440123Z",
     "start_time": "2023-12-04T06:44:46.436124300Z"
    }
   }
  },
  {
   "cell_type": "code",
   "execution_count": 91,
   "outputs": [],
   "source": [
    "def process(line):\n",
    "  _, info = line.split(\":\")\n",
    "  [winning_part, owning_part] = info.split(\"|\")\n",
    "  winning_numbers = [int(s) for s in winning_part.split()]\n",
    "  owning_numbers = {int(s) for s in owning_part.split()}\n",
    "\n",
    "  nb_match = 0\n",
    "\n",
    "  for winning_number in winning_numbers:\n",
    "    if winning_number in owning_numbers:\n",
    "      nb_match += 1\n",
    "\n",
    "  return nb_match\n",
    "\n",
    "def process_all(lines):\n",
    "  nb_cards = {}\n",
    "\n",
    "  def add_cards(card_id, n):\n",
    "      if card_id not in nb_cards:\n",
    "          nb_cards[card_id] = n\n",
    "      else:\n",
    "          nb_cards[card_id] += n\n",
    "\n",
    "  for i, line in enumerate(lines):\n",
    "    card_id = i + 1\n",
    "    nb_match = process(line)\n",
    "\n",
    "    add_cards(card_id, 1)\n",
    "    nb_current_card = nb_cards[card_id]\n",
    "\n",
    "    print(card_id, nb_current_card, nb_match, list(range(card_id + 1, card_id + nb_match + 1)))\n",
    "    for new_card_id in range(card_id + 1, card_id + nb_match + 1):\n",
    "      add_cards(new_card_id, nb_current_card)\n",
    "\n",
    "  print(nb_cards)\n",
    "  return sum(nb_cards.values())"
   ],
   "metadata": {
    "collapsed": false,
    "ExecuteTime": {
     "end_time": "2023-12-04T07:09:56.986507Z",
     "start_time": "2023-12-04T07:09:56.967505500Z"
    }
   }
  },
  {
   "cell_type": "code",
   "execution_count": 92,
   "outputs": [
    {
     "name": "stdout",
     "output_type": "stream",
     "text": [
      "1 1 4 [2, 3, 4, 5]\n",
      "2 2 2 [3, 4]\n",
      "3 4 2 [4, 5]\n",
      "4 8 1 [5]\n",
      "5 14 0 []\n",
      "6 1 0 []\n",
      "{1: 1, 2: 2, 3: 4, 4: 8, 5: 14, 6: 1}\n",
      "30\n"
     ]
    }
   ],
   "source": [
    "result = process_all(lines)\n",
    "print(result)"
   ],
   "metadata": {
    "collapsed": false,
    "ExecuteTime": {
     "end_time": "2023-12-04T07:09:57.526609600Z",
     "start_time": "2023-12-04T07:09:57.502198700Z"
    }
   }
  },
  {
   "cell_type": "code",
   "execution_count": null,
   "outputs": [],
   "source": [],
   "metadata": {
    "collapsed": false
   }
  }
 ],
 "metadata": {
  "kernelspec": {
   "display_name": "Python 3",
   "language": "python",
   "name": "python3"
  },
  "language_info": {
   "codemirror_mode": {
    "name": "ipython",
    "version": 2
   },
   "file_extension": ".py",
   "mimetype": "text/x-python",
   "name": "python",
   "nbconvert_exporter": "python",
   "pygments_lexer": "ipython2",
   "version": "2.7.6"
  }
 },
 "nbformat": 4,
 "nbformat_minor": 0
}
